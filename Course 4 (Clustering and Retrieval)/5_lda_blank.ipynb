{
 "cells": [
  {
   "cell_type": "markdown",
   "metadata": {},
   "source": [
    "# Latent Dirichlet Allocation for Text Data\n",
    "\n",
    "In this assignment you will\n",
    "\n",
    "* apply standard preprocessing techniques on Wikipedia text data\n",
    "* use GraphLab Create to fit a Latent Dirichlet allocation (LDA) model\n",
    "* explore and interpret the results, including topic keywords and topic assignments for documents\n",
    "\n",
    "Recall that a major feature distinguishing the LDA model from our previously explored methods is the notion of *mixed membership*. Throughout the course so far, our models have assumed that each data point belongs to a single cluster. k-means determines membership simply by shortest distance to the cluster center, and Gaussian mixture models suppose that each data point is drawn from one of their component mixture distributions. In many cases, though, it is more realistic to think of data as genuinely belonging to more than one cluster or category - for example, if we have a model for text data that includes both \"Politics\" and \"World News\" categories, then an article about a recent meeting of the United Nations should have membership in both categories rather than being forced into just one.\n",
    "\n",
    "With this in mind, we will use GraphLab Create tools to fit an LDA model to a corpus of Wikipedia articles and examine the results to analyze the impact of a mixed membership approach. In particular, we want to identify the topics discovered by the model in terms of their most important words, and we want to use the model to predict the topic membership distribution for a given document. "
   ]
  },
  {
   "cell_type": "markdown",
   "metadata": {},
   "source": [
    "**Note to Amazon EC2 users**: To conserve memory, make sure to stop all the other notebooks before running this notebook."
   ]
  },
  {
   "cell_type": "markdown",
   "metadata": {},
   "source": [
    "## Text Data Preprocessing\n",
    "We'll start by importing our familiar Wikipedia dataset.\n",
    "\n",
    "The following code block will check if you have the correct version of GraphLab Create. Any version later than 1.8.5 will do. To upgrade, read [this page](https://turi.com/download/upgrade-graphlab-create.html)."
   ]
  },
  {
   "cell_type": "code",
   "execution_count": null,
   "metadata": {},
   "outputs": [],
   "source": [
    "import graphlab as gl\n",
    "import numpy as np\n",
    "import matplotlib.pyplot as plt \n",
    "\n",
    "%matplotlib inline\n",
    "\n",
    "'''Check GraphLab Create version'''\n",
    "from distutils.version import StrictVersion\n",
    "assert (StrictVersion(gl.version) >= StrictVersion('1.8.5')), 'GraphLab Create must be version 1.8.5 or later.'"
   ]
  },
  {
   "cell_type": "code",
   "execution_count": null,
   "metadata": {
    "collapsed": true
   },
   "outputs": [],
   "source": []
  },
  {
   "cell_type": "code",
   "execution_count": 2,
   "metadata": {
    "scrolled": false
   },
   "outputs": [
    {
     "data": {
      "text/html": [
       "<div style=\"max-height:1000px;max-width:1500px;overflow:auto;\"><table frame=\"box\" rules=\"cols\">\n",
       "    <tr>\n",
       "        <th style=\"padding-left: 1em; padding-right: 1em; text-align: center\">URI</th>\n",
       "        <th style=\"padding-left: 1em; padding-right: 1em; text-align: center\">name</th>\n",
       "        <th style=\"padding-left: 1em; padding-right: 1em; text-align: center\">text</th>\n",
       "    </tr>\n",
       "    <tr>\n",
       "        <td style=\"padding-left: 1em; padding-right: 1em; text-align: center; vertical-align: top\">&lt;http://dbpedia.org/resou<br>rce/Digby_Morrell&gt; ...</td>\n",
       "        <td style=\"padding-left: 1em; padding-right: 1em; text-align: center; vertical-align: top\">Digby Morrell</td>\n",
       "        <td style=\"padding-left: 1em; padding-right: 1em; text-align: center; vertical-align: top\">digby morrell born 10<br>october 1979 is a former ...</td>\n",
       "    </tr>\n",
       "    <tr>\n",
       "        <td style=\"padding-left: 1em; padding-right: 1em; text-align: center; vertical-align: top\">&lt;http://dbpedia.org/resou<br>rce/Alfred_J._Lewy&gt; ...</td>\n",
       "        <td style=\"padding-left: 1em; padding-right: 1em; text-align: center; vertical-align: top\">Alfred J. Lewy</td>\n",
       "        <td style=\"padding-left: 1em; padding-right: 1em; text-align: center; vertical-align: top\">alfred j lewy aka sandy<br>lewy graduated from ...</td>\n",
       "    </tr>\n",
       "    <tr>\n",
       "        <td style=\"padding-left: 1em; padding-right: 1em; text-align: center; vertical-align: top\">&lt;http://dbpedia.org/resou<br>rce/Harpdog_Brown&gt; ...</td>\n",
       "        <td style=\"padding-left: 1em; padding-right: 1em; text-align: center; vertical-align: top\">Harpdog Brown</td>\n",
       "        <td style=\"padding-left: 1em; padding-right: 1em; text-align: center; vertical-align: top\">harpdog brown is a singer<br>and harmonica player who ...</td>\n",
       "    </tr>\n",
       "    <tr>\n",
       "        <td style=\"padding-left: 1em; padding-right: 1em; text-align: center; vertical-align: top\">&lt;http://dbpedia.org/resou<br>rce/Franz_Rottensteiner&gt; ...</td>\n",
       "        <td style=\"padding-left: 1em; padding-right: 1em; text-align: center; vertical-align: top\">Franz Rottensteiner</td>\n",
       "        <td style=\"padding-left: 1em; padding-right: 1em; text-align: center; vertical-align: top\">franz rottensteiner born<br>in waidmannsfeld lower ...</td>\n",
       "    </tr>\n",
       "    <tr>\n",
       "        <td style=\"padding-left: 1em; padding-right: 1em; text-align: center; vertical-align: top\">&lt;http://dbpedia.org/resou<br>rce/G-Enka&gt; ...</td>\n",
       "        <td style=\"padding-left: 1em; padding-right: 1em; text-align: center; vertical-align: top\">G-Enka</td>\n",
       "        <td style=\"padding-left: 1em; padding-right: 1em; text-align: center; vertical-align: top\">henry krvits born 30<br>december 1974 in tallinn ...</td>\n",
       "    </tr>\n",
       "    <tr>\n",
       "        <td style=\"padding-left: 1em; padding-right: 1em; text-align: center; vertical-align: top\">&lt;http://dbpedia.org/resou<br>rce/Sam_Henderson&gt; ...</td>\n",
       "        <td style=\"padding-left: 1em; padding-right: 1em; text-align: center; vertical-align: top\">Sam Henderson</td>\n",
       "        <td style=\"padding-left: 1em; padding-right: 1em; text-align: center; vertical-align: top\">sam henderson born<br>october 18 1969 is an ...</td>\n",
       "    </tr>\n",
       "    <tr>\n",
       "        <td style=\"padding-left: 1em; padding-right: 1em; text-align: center; vertical-align: top\">&lt;http://dbpedia.org/resou<br>rce/Aaron_LaCrate&gt; ...</td>\n",
       "        <td style=\"padding-left: 1em; padding-right: 1em; text-align: center; vertical-align: top\">Aaron LaCrate</td>\n",
       "        <td style=\"padding-left: 1em; padding-right: 1em; text-align: center; vertical-align: top\">aaron lacrate is an<br>american music producer ...</td>\n",
       "    </tr>\n",
       "    <tr>\n",
       "        <td style=\"padding-left: 1em; padding-right: 1em; text-align: center; vertical-align: top\">&lt;http://dbpedia.org/resou<br>rce/Trevor_Ferguson&gt; ...</td>\n",
       "        <td style=\"padding-left: 1em; padding-right: 1em; text-align: center; vertical-align: top\">Trevor Ferguson</td>\n",
       "        <td style=\"padding-left: 1em; padding-right: 1em; text-align: center; vertical-align: top\">trevor ferguson aka john<br>farrow born 11 november ...</td>\n",
       "    </tr>\n",
       "    <tr>\n",
       "        <td style=\"padding-left: 1em; padding-right: 1em; text-align: center; vertical-align: top\">&lt;http://dbpedia.org/resou<br>rce/Grant_Nelson&gt; ...</td>\n",
       "        <td style=\"padding-left: 1em; padding-right: 1em; text-align: center; vertical-align: top\">Grant Nelson</td>\n",
       "        <td style=\"padding-left: 1em; padding-right: 1em; text-align: center; vertical-align: top\">grant nelson born 27<br>april 1971 in london  ...</td>\n",
       "    </tr>\n",
       "    <tr>\n",
       "        <td style=\"padding-left: 1em; padding-right: 1em; text-align: center; vertical-align: top\">&lt;http://dbpedia.org/resou<br>rce/Cathy_Caruth&gt; ...</td>\n",
       "        <td style=\"padding-left: 1em; padding-right: 1em; text-align: center; vertical-align: top\">Cathy Caruth</td>\n",
       "        <td style=\"padding-left: 1em; padding-right: 1em; text-align: center; vertical-align: top\">cathy caruth born 1955 is<br>frank h t rhodes ...</td>\n",
       "    </tr>\n",
       "</table>\n",
       "[59071 rows x 3 columns]<br/>Note: Only the head of the SFrame is printed.<br/>You can use print_rows(num_rows=m, num_columns=n) to print more rows and columns.\n",
       "</div>"
      ],
      "text/plain": [
       "Columns:\n",
       "\tURI\tstr\n",
       "\tname\tstr\n",
       "\ttext\tstr\n",
       "\n",
       "Rows: 59071\n",
       "\n",
       "Data:\n",
       "+-------------------------------+---------------------+\n",
       "|              URI              |         name        |\n",
       "+-------------------------------+---------------------+\n",
       "| <http://dbpedia.org/resour... |    Digby Morrell    |\n",
       "| <http://dbpedia.org/resour... |    Alfred J. Lewy   |\n",
       "| <http://dbpedia.org/resour... |    Harpdog Brown    |\n",
       "| <http://dbpedia.org/resour... | Franz Rottensteiner |\n",
       "| <http://dbpedia.org/resour... |        G-Enka       |\n",
       "| <http://dbpedia.org/resour... |    Sam Henderson    |\n",
       "| <http://dbpedia.org/resour... |    Aaron LaCrate    |\n",
       "| <http://dbpedia.org/resour... |   Trevor Ferguson   |\n",
       "| <http://dbpedia.org/resour... |     Grant Nelson    |\n",
       "| <http://dbpedia.org/resour... |     Cathy Caruth    |\n",
       "+-------------------------------+---------------------+\n",
       "+-------------------------------+\n",
       "|              text             |\n",
       "+-------------------------------+\n",
       "| digby morrell born 10 octo... |\n",
       "| alfred j lewy aka sandy le... |\n",
       "| harpdog brown is a singer ... |\n",
       "| franz rottensteiner born i... |\n",
       "| henry krvits born 30 decem... |\n",
       "| sam henderson born october... |\n",
       "| aaron lacrate is an americ... |\n",
       "| trevor ferguson aka john f... |\n",
       "| grant nelson born 27 april... |\n",
       "| cathy caruth born 1955 is ... |\n",
       "+-------------------------------+\n",
       "[59071 rows x 3 columns]\n",
       "Note: Only the head of the SFrame is printed.\n",
       "You can use print_rows(num_rows=m, num_columns=n) to print more rows and columns."
      ]
     },
     "execution_count": 2,
     "metadata": {},
     "output_type": "execute_result"
    }
   ],
   "source": [
    "# import wiki data\n",
    "wiki = gl.SFrame('people_wiki.gl/')\n",
    "wiki"
   ]
  },
  {
   "cell_type": "markdown",
   "metadata": {},
   "source": [
    "In the original data, each Wikipedia article is represented by a URI, a name, and a string containing the entire text of the article. Recall from the video lectures that LDA requires documents to be represented as a _bag of words_, which ignores word ordering in the document but retains information on how many times each word appears. As we have seen in our previous encounters with text data, words such as 'the', 'a', or 'and' are by far the most frequent, but they appear so commonly in the English language that they tell us almost nothing about how similar or dissimilar two documents might be. \n",
    "\n",
    "Therefore, before we train our LDA model, we will preprocess the Wikipedia data in two steps: first, we will create a bag of words representation for each article, and then we will remove the common words that don't help us to distinguish between documents. For both of these tasks we can use pre-implemented tools from GraphLab Create:"
   ]
  },
  {
   "cell_type": "code",
   "execution_count": 3,
   "metadata": {
    "collapsed": true
   },
   "outputs": [],
   "source": [
    "wiki_docs = gl.text_analytics.count_words(wiki['text'])\n",
    "wiki_docs = wiki_docs.dict_trim_by_keys(gl.text_analytics.stopwords(), exclude=True)"
   ]
  },
  {
   "cell_type": "markdown",
   "metadata": {},
   "source": [
    "## Model fitting and interpretation\n",
    "In the video lectures we saw that Gibbs sampling can be used to perform inference in the LDA model. In this assignment we will use a GraphLab Create method to learn the topic model for our Wikipedia data, and our main emphasis will be on interpreting the results. We'll begin by creating the topic model using create() from GraphLab Create's topic_model module.\n",
    "\n",
    "Note: This may take several minutes to run."
   ]
  },
  {
   "cell_type": "code",
   "execution_count": 4,
   "metadata": {},
   "outputs": [
    {
     "data": {
      "text/html": [
       "<pre>Learning a topic model</pre>"
      ],
      "text/plain": [
       "Learning a topic model"
      ]
     },
     "metadata": {},
     "output_type": "display_data"
    },
    {
     "data": {
      "text/html": [
       "<pre>       Number of documents     59071</pre>"
      ],
      "text/plain": [
       "       Number of documents     59071"
      ]
     },
     "metadata": {},
     "output_type": "display_data"
    },
    {
     "data": {
      "text/html": [
       "<pre>           Vocabulary size    547462</pre>"
      ],
      "text/plain": [
       "           Vocabulary size    547462"
      ]
     },
     "metadata": {},
     "output_type": "display_data"
    },
    {
     "data": {
      "text/html": [
       "<pre>   Running collapsed Gibbs sampling</pre>"
      ],
      "text/plain": [
       "   Running collapsed Gibbs sampling"
      ]
     },
     "metadata": {},
     "output_type": "display_data"
    },
    {
     "data": {
      "text/html": [
       "<pre>+-----------+---------------+----------------+-----------------+</pre>"
      ],
      "text/plain": [
       "+-----------+---------------+----------------+-----------------+"
      ]
     },
     "metadata": {},
     "output_type": "display_data"
    },
    {
     "data": {
      "text/html": [
       "<pre>| Iteration | Elapsed Time  | Tokens/Second  | Est. Perplexity |</pre>"
      ],
      "text/plain": [
       "| Iteration | Elapsed Time  | Tokens/Second  | Est. Perplexity |"
      ]
     },
     "metadata": {},
     "output_type": "display_data"
    },
    {
     "data": {
      "text/html": [
       "<pre>+-----------+---------------+----------------+-----------------+</pre>"
      ],
      "text/plain": [
       "+-----------+---------------+----------------+-----------------+"
      ]
     },
     "metadata": {},
     "output_type": "display_data"
    },
    {
     "data": {
      "text/html": [
       "<pre>| 10        | 10.84s        | 7.6791e+06     | 0               |</pre>"
      ],
      "text/plain": [
       "| 10        | 10.84s        | 7.6791e+06     | 0               |"
      ]
     },
     "metadata": {},
     "output_type": "display_data"
    },
    {
     "data": {
      "text/html": [
       "<pre>| 20        | 21.97s        | 7.12908e+06    | 0               |</pre>"
      ],
      "text/plain": [
       "| 20        | 21.97s        | 7.12908e+06    | 0               |"
      ]
     },
     "metadata": {},
     "output_type": "display_data"
    },
    {
     "data": {
      "text/html": [
       "<pre>| 30        | 33.59s        | 7.20296e+06    | 0               |</pre>"
      ],
      "text/plain": [
       "| 30        | 33.59s        | 7.20296e+06    | 0               |"
      ]
     },
     "metadata": {},
     "output_type": "display_data"
    },
    {
     "data": {
      "text/html": [
       "<pre>| 40        | 44.51s        | 6.94716e+06    | 0               |</pre>"
      ],
      "text/plain": [
       "| 40        | 44.51s        | 6.94716e+06    | 0               |"
      ]
     },
     "metadata": {},
     "output_type": "display_data"
    },
    {
     "data": {
      "text/html": [
       "<pre>| 50        | 55.73s        | 7.33553e+06    | 0               |</pre>"
      ],
      "text/plain": [
       "| 50        | 55.73s        | 7.33553e+06    | 0               |"
      ]
     },
     "metadata": {},
     "output_type": "display_data"
    },
    {
     "data": {
      "text/html": [
       "<pre>| 60        | 1m 6s         | 7.3235e+06     | 0               |</pre>"
      ],
      "text/plain": [
       "| 60        | 1m 6s         | 7.3235e+06     | 0               |"
      ]
     },
     "metadata": {},
     "output_type": "display_data"
    },
    {
     "data": {
      "text/html": [
       "<pre>| 70        | 1m 17s        | 6.20417e+06    | 0               |</pre>"
      ],
      "text/plain": [
       "| 70        | 1m 17s        | 6.20417e+06    | 0               |"
      ]
     },
     "metadata": {},
     "output_type": "display_data"
    },
    {
     "data": {
      "text/html": [
       "<pre>| 80        | 1m 28s        | 7.52931e+06    | 0               |</pre>"
      ],
      "text/plain": [
       "| 80        | 1m 28s        | 7.52931e+06    | 0               |"
      ]
     },
     "metadata": {},
     "output_type": "display_data"
    },
    {
     "data": {
      "text/html": [
       "<pre>| 90        | 1m 40s        | 7.11379e+06    | 0               |</pre>"
      ],
      "text/plain": [
       "| 90        | 1m 40s        | 7.11379e+06    | 0               |"
      ]
     },
     "metadata": {},
     "output_type": "display_data"
    },
    {
     "data": {
      "text/html": [
       "<pre>| 100       | 1m 51s        | 7.13231e+06    | 0               |</pre>"
      ],
      "text/plain": [
       "| 100       | 1m 51s        | 7.13231e+06    | 0               |"
      ]
     },
     "metadata": {},
     "output_type": "display_data"
    },
    {
     "data": {
      "text/html": [
       "<pre>| 110       | 2m 1s         | 8.21566e+06    | 0               |</pre>"
      ],
      "text/plain": [
       "| 110       | 2m 1s         | 8.21566e+06    | 0               |"
      ]
     },
     "metadata": {},
     "output_type": "display_data"
    },
    {
     "data": {
      "text/html": [
       "<pre>| 120       | 2m 11s        | 7.87455e+06    | 0               |</pre>"
      ],
      "text/plain": [
       "| 120       | 2m 11s        | 7.87455e+06    | 0               |"
      ]
     },
     "metadata": {},
     "output_type": "display_data"
    },
    {
     "data": {
      "text/html": [
       "<pre>| 130       | 2m 22s        | 7.78115e+06    | 0               |</pre>"
      ],
      "text/plain": [
       "| 130       | 2m 22s        | 7.78115e+06    | 0               |"
      ]
     },
     "metadata": {},
     "output_type": "display_data"
    },
    {
     "data": {
      "text/html": [
       "<pre>| 140       | 2m 32s        | 6.88578e+06    | 0               |</pre>"
      ],
      "text/plain": [
       "| 140       | 2m 32s        | 6.88578e+06    | 0               |"
      ]
     },
     "metadata": {},
     "output_type": "display_data"
    },
    {
     "data": {
      "text/html": [
       "<pre>| 150       | 2m 43s        | 7.86065e+06    | 0               |</pre>"
      ],
      "text/plain": [
       "| 150       | 2m 43s        | 7.86065e+06    | 0               |"
      ]
     },
     "metadata": {},
     "output_type": "display_data"
    },
    {
     "data": {
      "text/html": [
       "<pre>| 160       | 2m 53s        | 7.83514e+06    | 0               |</pre>"
      ],
      "text/plain": [
       "| 160       | 2m 53s        | 7.83514e+06    | 0               |"
      ]
     },
     "metadata": {},
     "output_type": "display_data"
    },
    {
     "data": {
      "text/html": [
       "<pre>| 170       | 3m 3s         | 7.96722e+06    | 0               |</pre>"
      ],
      "text/plain": [
       "| 170       | 3m 3s         | 7.96722e+06    | 0               |"
      ]
     },
     "metadata": {},
     "output_type": "display_data"
    },
    {
     "data": {
      "text/html": [
       "<pre>| 180       | 3m 13s        | 7.6764e+06     | 0               |</pre>"
      ],
      "text/plain": [
       "| 180       | 3m 13s        | 7.6764e+06     | 0               |"
      ]
     },
     "metadata": {},
     "output_type": "display_data"
    },
    {
     "data": {
      "text/html": [
       "<pre>| 190       | 3m 24s        | 7.54208e+06    | 0               |</pre>"
      ],
      "text/plain": [
       "| 190       | 3m 24s        | 7.54208e+06    | 0               |"
      ]
     },
     "metadata": {},
     "output_type": "display_data"
    },
    {
     "data": {
      "text/html": [
       "<pre>| 200       | 3m 34s        | 7.43024e+06    | 0               |</pre>"
      ],
      "text/plain": [
       "| 200       | 3m 34s        | 7.43024e+06    | 0               |"
      ]
     },
     "metadata": {},
     "output_type": "display_data"
    },
    {
     "data": {
      "text/html": [
       "<pre>+-----------+---------------+----------------+-----------------+</pre>"
      ],
      "text/plain": [
       "+-----------+---------------+----------------+-----------------+"
      ]
     },
     "metadata": {},
     "output_type": "display_data"
    }
   ],
   "source": [
    "topic_model = gl.topic_model.create(wiki_docs, num_topics=10, num_iterations=200)"
   ]
  },
  {
   "cell_type": "markdown",
   "metadata": {},
   "source": [
    "GraphLab provides a useful summary of the model we have fitted, including the hyperparameter settings for alpha, gamma (note that GraphLab Create calls this parameter beta), and K (the number of topics); the structure of the output data; and some useful methods for understanding the results."
   ]
  },
  {
   "cell_type": "code",
   "execution_count": 5,
   "metadata": {},
   "outputs": [
    {
     "data": {
      "text/plain": [
       "Class                          : TopicModel\n",
       "\n",
       "Schema\n",
       "------\n",
       "Vocabulary Size                : 547462\n",
       "\n",
       "Settings\n",
       "--------\n",
       "Number of Topics               : 10\n",
       "alpha                          : 5.0\n",
       "beta                           : 0.1\n",
       "Iterations                     : 200\n",
       "Training time                  : 215.4787\n",
       "Verbose                        : False\n",
       "\n",
       "Accessible fields             : \n",
       "m['topics']                   : An SFrame containing the topics.\n",
       "m['vocabulary']               : An SArray containing the words in the vocabulary.\n",
       "Useful methods                : \n",
       "m.get_topics()                : Get the most probable words per topic.\n",
       "m.predict(new_docs)           : Make predictions for new documents."
      ]
     },
     "execution_count": 5,
     "metadata": {},
     "output_type": "execute_result"
    }
   ],
   "source": [
    "topic_model"
   ]
  },
  {
   "cell_type": "markdown",
   "metadata": {},
   "source": [
    "It is certainly useful to have pre-implemented methods available for LDA, but as with our previous methods for clustering and retrieval, implementing and fitting the model gets us only halfway towards our objective. We now need to analyze the fitted model to understand what it has done with our data and whether it will be useful as a document classification system. This can be a challenging task in itself, particularly when the model that we use is complex. We will begin by outlining a sequence of objectives that will help us understand our model in detail. In particular, we will\n",
    "\n",
    "* get the top words in each topic and use these to identify topic themes\n",
    "* predict topic distributions for some example documents\n",
    "* compare the quality of LDA \"nearest neighbors\" to the NN output from the first assignment\n",
    "* understand the role of model hyperparameters alpha and gamma"
   ]
  },
  {
   "cell_type": "markdown",
   "metadata": {},
   "source": [
    "## Load a fitted topic model\n",
    "The method used to fit the LDA model is a _randomized algorithm_, which means that it involves steps that are random; in this case, the randomness comes from Gibbs sampling, as discussed in the LDA video lectures. Because of these random steps, the algorithm will be expected to yield slighty different output for different runs on the same data - note that this is different from previously seen algorithms such as k-means or EM, which will always produce the same results given the same input and initialization.\n",
    "\n",
    "It is important to understand that variation in the results is a fundamental feature of randomized methods. However, in the context of this assignment this variation makes it difficult to evaluate the correctness of your analysis, so we will load and analyze a pre-trained model. \n",
    "\n",
    "We recommend that you spend some time exploring your own fitted topic model and compare our analysis of the pre-trained model to the same analysis applied to the model you trained above."
   ]
  },
  {
   "cell_type": "code",
   "execution_count": 16,
   "metadata": {
    "collapsed": true,
    "scrolled": false
   },
   "outputs": [],
   "source": [
    "topic_model = gl.load_model('lda_assignment_topic_model')"
   ]
  },
  {
   "cell_type": "markdown",
   "metadata": {},
   "source": [
    "# Identifying topic themes by top words\n",
    "\n",
    "We'll start by trying to identify the topics learned by our model with some major themes. As a preliminary check on the results of applying this method, it is reasonable to hope that the model has been able to learn topics that correspond to recognizable categories. In order to do this, we must first recall what exactly a 'topic' is in the context of LDA. \n",
    "\n",
    "In the video lectures on LDA we learned that a topic is a probability distribution over words in the vocabulary; that is, each topic assigns a particular probability to every one of the unique words that appears in our data. Different topics will assign different probabilities to the same word: for instance, a topic that ends up describing science and technology articles might place more probability on the word 'university' than a topic that describes sports or politics. Looking at the highest probability words in each topic will thus give us a sense of its major themes. Ideally we would find that each topic is identifiable with some clear theme _and_ that all the topics are relatively distinct.\n",
    "\n",
    "We can use the GraphLab Create function get_topics() to view the top words (along with their associated probabilities) from each topic.\n",
    "\n",
    "__Quiz Question:__ Identify the top 3 most probable words for the first topic. "
   ]
  },
  {
   "cell_type": "code",
   "execution_count": 36,
   "metadata": {},
   "outputs": [
    {
     "name": "stdout",
     "output_type": "stream",
     "text": [
      "+-------+---------------+------------------+\n",
      "| topic |      word     |      score       |\n",
      "+-------+---------------+------------------+\n",
      "|   0   |   university  | 0.0337723780773  |\n",
      "|   0   |    research   | 0.0120334992502  |\n",
      "|   0   |   professor   | 0.0118011432268  |\n",
      "|   0   | international | 0.00881383389898 |\n",
      "|   0   |   institute   | 0.00851045584573 |\n",
      "|   1   |     played    | 0.0189511138484  |\n",
      "|   1   |     season    | 0.0180754216578  |\n",
      "|   1   |     league    |  0.017415688373  |\n",
      "|   1   |      team     | 0.0125104570691  |\n",
      "|   1   |     career    | 0.0108564659198  |\n",
      "|   2   |      film     | 0.0161482004927  |\n",
      "|   2   |     music     | 0.0114820618908  |\n",
      "|   2   |     album     | 0.00996964339687 |\n",
      "|   2   |    released   | 0.00890297536304 |\n",
      "|   2   |      band     | 0.00790751347298 |\n",
      "|   3   |   university  | 0.0194153737573  |\n",
      "|   3   |     school    | 0.0185257867872  |\n",
      "|   3   |     served    | 0.0122811809442  |\n",
      "|   3   |    college    | 0.0118686188711  |\n",
      "|   3   |     state     | 0.0109016765123  |\n",
      "|   4   |     member    |  0.011017911633  |\n",
      "|   4   |     party     | 0.0100170097928  |\n",
      "|   4   |    election   | 0.00766311020798 |\n",
      "|   4   |    minister   | 0.00753651392779 |\n",
      "|   4   |   government  | 0.0074083351941  |\n",
      "|   5   |      work     | 0.0125794636817  |\n",
      "|   5   |      art      |  0.012232269742  |\n",
      "|   5   |      book     | 0.0113399901514  |\n",
      "|   5   |   published   | 0.00921707148188 |\n",
      "|   5   |      york     | 0.00898119162971 |\n",
      "|   6   |    company    | 0.0077863641754  |\n",
      "|   6   |    business   | 0.00756178877066 |\n",
      "|   6   |     years     | 0.00709687828366 |\n",
      "|   6   |     group     | 0.00500872101154 |\n",
      "|   6   |      time     | 0.00490726808747 |\n",
      "|   7   |     world     | 0.0212653136675  |\n",
      "|   7   |      won      | 0.0191686861873  |\n",
      "|   7   |      born     | 0.00797684395947 |\n",
      "|   7   |      time     | 0.00742269169144 |\n",
      "|   7   |      year     | 0.00736676806806 |\n",
      "|   8   |      born     | 0.0142147385999  |\n",
      "|   8   |    british    | 0.0102082452893  |\n",
      "|   8   |     london    | 0.00832917529659 |\n",
      "|   8   |   australian  | 0.00821526116814 |\n",
      "|   8   |     south     | 0.00766313683385 |\n",
      "|   9   |     music     | 0.0144161088896  |\n",
      "|   9   |       de      | 0.0127172743404  |\n",
      "|   9   |      born     | 0.00923057877049 |\n",
      "|   9   | international | 0.00819054010996 |\n",
      "|   9   |       la      | 0.00607171008957 |\n",
      "+-------+---------------+------------------+\n",
      "[50 rows x 3 columns]\n",
      "\n"
     ]
    }
   ],
   "source": [
    "topic_model.get_topics().print_rows(num_rows=50)"
   ]
  },
  {
   "cell_type": "markdown",
   "metadata": {},
   "source": [
    "__ Quiz Question:__ What is the sum of the probabilities assigned to the top 50 words in the 3rd topic?"
   ]
  },
  {
   "cell_type": "code",
   "execution_count": 118,
   "metadata": {},
   "outputs": [
    {
     "data": {
      "text/plain": [
       "0.21034366078939654"
      ]
     },
     "execution_count": 118,
     "metadata": {},
     "output_type": "execute_result"
    }
   ],
   "source": [
    "topic_model.get_topics(output_type='topic_probabilities', num_words=50, topic_ids=[2])['score'].sum()"
   ]
  },
  {
   "cell_type": "markdown",
   "metadata": {},
   "source": [
    "Let's look at the top 10 words for each topic to see if we can identify any themes:"
   ]
  },
  {
   "cell_type": "code",
   "execution_count": 37,
   "metadata": {},
   "outputs": [
    {
     "data": {
      "text/plain": [
       "[['university',\n",
       "  'research',\n",
       "  'professor',\n",
       "  'international',\n",
       "  'institute',\n",
       "  'science',\n",
       "  'society',\n",
       "  'studies',\n",
       "  'director',\n",
       "  'national'],\n",
       " ['played',\n",
       "  'season',\n",
       "  'league',\n",
       "  'team',\n",
       "  'career',\n",
       "  'football',\n",
       "  'games',\n",
       "  'player',\n",
       "  'coach',\n",
       "  'game'],\n",
       " ['film',\n",
       "  'music',\n",
       "  'album',\n",
       "  'released',\n",
       "  'band',\n",
       "  'television',\n",
       "  'series',\n",
       "  'show',\n",
       "  'award',\n",
       "  'appeared'],\n",
       " ['university',\n",
       "  'school',\n",
       "  'served',\n",
       "  'college',\n",
       "  'state',\n",
       "  'american',\n",
       "  'states',\n",
       "  'united',\n",
       "  'born',\n",
       "  'law'],\n",
       " ['member',\n",
       "  'party',\n",
       "  'election',\n",
       "  'minister',\n",
       "  'government',\n",
       "  'elected',\n",
       "  'served',\n",
       "  'president',\n",
       "  'general',\n",
       "  'committee'],\n",
       " ['work',\n",
       "  'art',\n",
       "  'book',\n",
       "  'published',\n",
       "  'york',\n",
       "  'magazine',\n",
       "  'radio',\n",
       "  'books',\n",
       "  'award',\n",
       "  'arts'],\n",
       " ['company',\n",
       "  'business',\n",
       "  'years',\n",
       "  'group',\n",
       "  'time',\n",
       "  'family',\n",
       "  'people',\n",
       "  'india',\n",
       "  'million',\n",
       "  'indian'],\n",
       " ['world',\n",
       "  'won',\n",
       "  'born',\n",
       "  'time',\n",
       "  'year',\n",
       "  'team',\n",
       "  'championship',\n",
       "  'tour',\n",
       "  'championships',\n",
       "  'title'],\n",
       " ['born',\n",
       "  'british',\n",
       "  'london',\n",
       "  'australian',\n",
       "  'south',\n",
       "  'joined',\n",
       "  'years',\n",
       "  'made',\n",
       "  'england',\n",
       "  'australia'],\n",
       " ['music',\n",
       "  'de',\n",
       "  'born',\n",
       "  'international',\n",
       "  'la',\n",
       "  'orchestra',\n",
       "  'opera',\n",
       "  'studied',\n",
       "  'french',\n",
       "  'festival']]"
      ]
     },
     "execution_count": 37,
     "metadata": {},
     "output_type": "execute_result"
    }
   ],
   "source": [
    "[x['words'] for x in topic_model.get_topics(output_type='topic_words', num_words=10)]"
   ]
  },
  {
   "cell_type": "markdown",
   "metadata": {},
   "source": [
    "We propose the following themes for each topic:\n",
    "\n",
    "- topic 0: Science and research\n",
    "- topic 1: Team sports\n",
    "- topic 2: Music, TV, and film\n",
    "- topic 3: American college and politics\n",
    "- topic 4: General politics\n",
    "- topic 5: Art and publishing\n",
    "- topic 6: Business\n",
    "- topic 7: International athletics\n",
    "- topic 8: Great Britain and Australia\n",
    "- topic 9: International music\n",
    "\n",
    "We'll save these themes for later:"
   ]
  },
  {
   "cell_type": "code",
   "execution_count": 46,
   "metadata": {
    "collapsed": true
   },
   "outputs": [],
   "source": [
    "themes = ['science and research','team sports','music, TV, and film','American college and politics','general politics', \\\n",
    "         'art and publishing','Business','international athletics','Great Britain and Australia','international music']"
   ]
  },
  {
   "cell_type": "markdown",
   "metadata": {},
   "source": [
    "### Measuring the importance of top words\n",
    "\n",
    "We can learn more about topics by exploring how they place probability mass (which we can think of as a weight) on each of their top words.\n",
    "\n",
    "We'll do this with two visualizations of the weights for the top words in each topic:\n",
    " - the weights of the top 100 words, sorted by the size\n",
    " - the total weight of the top 10 words\n"
   ]
  },
  {
   "cell_type": "markdown",
   "metadata": {},
   "source": [
    "Here's a plot for the top 100 words by weight in each topic:"
   ]
  },
  {
   "cell_type": "code",
   "execution_count": 47,
   "metadata": {},
   "outputs": [
    {
     "data": {
      "text/plain": [
       "<matplotlib.text.Text at 0x1376539d0>"
      ]
     },
     "execution_count": 47,
     "metadata": {},
     "output_type": "execute_result"
    },
    {
     "data": {
      "image/png": "[encoded data removed]",
      "text/plain": [
       "<matplotlib.figure.Figure at 0x11bfdc6d0>"
      ]
     },
     "metadata": {},
     "output_type": "display_data"
    }
   ],
   "source": [
    "for i in range(10):\n",
    "    plt.plot(range(100), topic_model.get_topics(topic_ids=[i], num_words=100)['score'])\n",
    "plt.xlabel('Word rank')\n",
    "plt.ylabel('Probability')\n",
    "plt.title('Probabilities of Top 100 Words in each Topic')"
   ]
  },
  {
   "cell_type": "markdown",
   "metadata": {},
   "source": [
    "In the above plot, each line corresponds to one of our ten topics. Notice how for each topic, the weights drop off sharply as we move down the ranked list of most important words. This shows that the top 10-20 words in each topic are assigned a much greater weight than the remaining words - and remember from the summary of our topic model that our vocabulary has 547462 words in total!\n",
    "\n",
    "\n",
    "Next we plot the total weight assigned by each topic to its top 10 words: "
   ]
  },
  {
   "cell_type": "code",
   "execution_count": 53,
   "metadata": {},
   "outputs": [
    {
     "data": {
      "image/png": "[encoded data removed]",
      "text/plain": [
       "<matplotlib.figure.Figure at 0x13882a490>"
      ]
     },
     "metadata": {},
     "output_type": "display_data"
    }
   ],
   "source": [
    "top_probs = [sum(topic_model.get_topics(topic_ids=[i], num_words=10)['score']) for i in range(10)]\n",
    "\n",
    "ind = np.arange(10)\n",
    "width = 0.5\n",
    "\n",
    "fig, ax = plt.subplots()\n",
    "\n",
    "ax.bar(ind-(width/2),top_probs,width)\n",
    "ax.set_xticks(ind)\n",
    "\n",
    "plt.xlabel('Topic')\n",
    "plt.ylabel('Probability')\n",
    "plt.title('Total Probability of Top 10 Words in each Topic')\n",
    "plt.xlim(-0.5,9.5)\n",
    "plt.ylim(0,0.15)\n",
    "plt.show()"
   ]
  },
  {
   "cell_type": "markdown",
   "metadata": {},
   "source": [
    "Here we see that, for our topic model, the top 10 words only account for a small fraction (in this case, between 5% and 13%) of their topic's total probability mass. So while we can use the top words to identify broad themes for each topic, we should keep in mind that in reality these topics are more complex than a simple 10-word summary.\n",
    "\n",
    "Finally, we observe that some 'junk' words appear highly rated in some topics despite our efforts to remove unhelpful words before fitting the model; for example, the word 'born' appears as a top 10 word in three different topics, but it doesn't help us describe these topics at all."
   ]
  },
  {
   "cell_type": "markdown",
   "metadata": {},
   "source": [
    "# Topic distributions for some example documents\n",
    "\n",
    "As we noted in the introduction to this assignment, LDA allows for mixed membership, which means that each document can partially belong to several different topics. For each document, topic membership is expressed as a vector of weights that sum to one; the magnitude of each weight indicates the degree to which the document represents that particular topic.\n",
    "\n",
    "We'll explore this in our fitted model by looking at the topic distributions for a few example Wikipedia articles from our data set. We should find that these articles have the highest weights on the topics whose themes are most relevant to the subject of the article - for example, we'd expect an article on a politician to place relatively high weight on topics related to government, while an article about an athlete should place higher weight on topics related to sports or competition."
   ]
  },
  {
   "cell_type": "markdown",
   "metadata": {},
   "source": [
    "Topic distributions for documents can be obtained using GraphLab Create's predict() function. GraphLab Create uses a collapsed Gibbs sampler similar to the one described in the video lectures, where only the word assignments variables are sampled.  To get a document-specific topic proportion vector post-facto, predict() draws this vector from the conditional distribution given the sampled word assignments in the document.  Notice that, since these are draws from a _distribution_ over topics that the model has learned, we will get slightly different predictions each time we call this function on a document - we can see this below, where we predict the topic distribution for the article on Barack Obama:"
   ]
  },
  {
   "cell_type": "code",
   "execution_count": 54,
   "metadata": {},
   "outputs": [
    {
     "name": "stdout",
     "output_type": "stream",
     "text": [
      "+--------------------------+---------------------------+\n",
      "| predictions (first draw) | predictions (second draw) |\n",
      "+--------------------------+---------------------------+\n",
      "|     0.0403225806452      |      0.0456989247312      |\n",
      "|     0.0591397849462      |      0.0376344086022      |\n",
      "|     0.0215053763441      |      0.0161290322581      |\n",
      "|      0.10752688172       |       0.177419354839      |\n",
      "|      0.604838709677      |       0.594086021505      |\n",
      "|     0.0134408602151      |      0.0161290322581      |\n",
      "|     0.0483870967742      |      0.0376344086022      |\n",
      "|     0.0510752688172      |      0.0268817204301      |\n",
      "|     0.0188172043011      |      0.0215053763441      |\n",
      "|     0.0349462365591      |      0.0268817204301      |\n",
      "+--------------------------+---------------------------+\n",
      "+-------------------------------+\n",
      "|             topics            |\n",
      "+-------------------------------+\n",
      "|      science and research     |\n",
      "|          team sports          |\n",
      "|      music, TV, and film      |\n",
      "| American college and politics |\n",
      "|        general politics       |\n",
      "|       art and publishing      |\n",
      "|            Business           |\n",
      "|    international athletics    |\n",
      "|  Great Britain and Australia  |\n",
      "|      international music      |\n",
      "+-------------------------------+\n",
      "[10 rows x 3 columns]\n",
      "\n"
     ]
    }
   ],
   "source": [
    "obama = gl.SArray([wiki_docs[int(np.where(wiki['name']=='Barack Obama')[0])]])\n",
    "pred1 = topic_model.predict(obama, output_type='probability')\n",
    "pred2 = topic_model.predict(obama, output_type='probability')\n",
    "print(gl.SFrame({'topics':themes, 'predictions (first draw)':pred1[0], 'predictions (second draw)':pred2[0]}))"
   ]
  },
  {
   "cell_type": "markdown",
   "metadata": {},
   "source": [
    "To get a more robust estimate of the topics for each document, we can average a large number of predictions for the same document:"
   ]
  },
  {
   "cell_type": "code",
   "execution_count": 55,
   "metadata": {
    "collapsed": true
   },
   "outputs": [],
   "source": [
    "def average_predictions(model, test_document, num_trials=100):\n",
    "    avg_preds = np.zeros((model.num_topics))\n",
    "    for i in range(num_trials):\n",
    "        avg_preds += model.predict(test_document, output_type='probability')[0]\n",
    "    avg_preds = avg_preds/num_trials\n",
    "    result = gl.SFrame({'topics':themes, 'average predictions':avg_preds})\n",
    "    result = result.sort('average predictions', ascending=False)\n",
    "    return result"
   ]
  },
  {
   "cell_type": "code",
   "execution_count": 56,
   "metadata": {},
   "outputs": [
    {
     "name": "stdout",
     "output_type": "stream",
     "text": [
      "+---------------------+-------------------------------+\n",
      "| average predictions |             topics            |\n",
      "+---------------------+-------------------------------+\n",
      "|    0.595994623656   |        general politics       |\n",
      "|    0.136720430108   | American college and politics |\n",
      "|   0.0525268817204   |            Business           |\n",
      "|   0.0492741935484   |          team sports          |\n",
      "|   0.0399462365591   |      science and research     |\n",
      "|   0.0336021505376   |    international athletics    |\n",
      "|   0.0262096774194   |  Great Britain and Australia  |\n",
      "|   0.0234139784946   |       art and publishing      |\n",
      "|    0.022688172043   |      international music      |\n",
      "|    0.019623655914   |      music, TV, and film      |\n",
      "+---------------------+-------------------------------+\n",
      "[10 rows x 2 columns]\n",
      "\n"
     ]
    }
   ],
   "source": [
    "print average_predictions(topic_model, obama, 100)"
   ]
  },
  {
   "cell_type": "markdown",
   "metadata": {},
   "source": [
    "__Quiz Question:__ What is the topic most closely associated with the article about former US President George W. Bush? Use the average results from 100 topic predictions."
   ]
  },
  {
   "cell_type": "code",
   "execution_count": 57,
   "metadata": {},
   "outputs": [
    {
     "name": "stdout",
     "output_type": "stream",
     "text": [
      "+---------------------+-------------------------------+\n",
      "| average predictions |             topics            |\n",
      "+---------------------+-------------------------------+\n",
      "|    0.430175438596   |        general politics       |\n",
      "|    0.190643274854   | American college and politics |\n",
      "|    0.10081871345    |            Business           |\n",
      "|   0.0589473684211   |      science and research     |\n",
      "|   0.0496198830409   |       art and publishing      |\n",
      "|   0.0457602339181   |          team sports          |\n",
      "|   0.0371929824561   |  Great Britain and Australia  |\n",
      "|   0.0362280701754   |    international athletics    |\n",
      "|   0.0298830409357   |      music, TV, and film      |\n",
      "|    0.020730994152   |      international music      |\n",
      "+---------------------+-------------------------------+\n",
      "[10 rows x 2 columns]\n",
      "\n"
     ]
    }
   ],
   "source": [
    "gwbush = gl.SArray([wiki_docs[int(np.where(wiki['name']=='George W. Bush')[0])]])\n",
    "print average_predictions(topic_model, gwbush, 100)"
   ]
  },
  {
   "cell_type": "markdown",
   "metadata": {},
   "source": [
    "__Quiz Question:__ What are the top 3 topics corresponding to the article about English football (soccer) player Steven Gerrard? Use the average results from 100 topic predictions."
   ]
  },
  {
   "cell_type": "code",
   "execution_count": 58,
   "metadata": {},
   "outputs": [
    {
     "name": "stdout",
     "output_type": "stream",
     "text": [
      "+---------------------+-------------------------------+\n",
      "| average predictions |             topics            |\n",
      "+---------------------+-------------------------------+\n",
      "|       0.49056       |          team sports          |\n",
      "|       0.16912       |  Great Britain and Australia  |\n",
      "|       0.13316       |    international athletics    |\n",
      "|       0.03616       |      international music      |\n",
      "|        0.0326       |        general politics       |\n",
      "|       0.03136       |      music, TV, and film      |\n",
      "|        0.0294       |            Business           |\n",
      "|       0.02744       |       art and publishing      |\n",
      "|       0.02588       | American college and politics |\n",
      "|       0.02432       |      science and research     |\n",
      "+---------------------+-------------------------------+\n",
      "[10 rows x 2 columns]\n",
      "\n"
     ]
    }
   ],
   "source": [
    "gerrard = gl.SArray([wiki_docs[int(np.where(wiki['name']=='Steven Gerrard')[0])]])\n",
    "print average_predictions(topic_model, gerrard, 100)"
   ]
  },
  {
   "cell_type": "markdown",
   "metadata": {},
   "source": [
    "# Comparing LDA to nearest neighbors for document retrieval\n",
    "\n",
    "So far we have found that our topic model has learned some coherent topics, we have explored these topics as probability distributions over a vocabulary, and we have seen how individual documents in our Wikipedia data set are assigned to these topics in a way that corresponds with our expectations. \n",
    "\n",
    "In this section, we will use the predicted topic distribution as a representation of each document, similar to how we have previously represented documents by word count or TF-IDF. This gives us a way of computing distances between documents, so that we can run a nearest neighbors search for a given document based on its membership in the topics that we learned from LDA. We can contrast the results with those obtained by running nearest neighbors under the usual TF-IDF representation, an approach that we explored in a previous assignment. \n",
    "\n",
    "We'll start by creating the LDA topic distribution representation for each document:"
   ]
  },
  {
   "cell_type": "code",
   "execution_count": 59,
   "metadata": {
    "collapsed": true
   },
   "outputs": [],
   "source": [
    "wiki['lda'] = topic_model.predict(wiki_docs, output_type='probability')"
   ]
  },
  {
   "cell_type": "markdown",
   "metadata": {},
   "source": [
    "Next we add the TF-IDF document representations:"
   ]
  },
  {
   "cell_type": "code",
   "execution_count": 60,
   "metadata": {
    "collapsed": true
   },
   "outputs": [],
   "source": [
    "wiki['word_count'] = gl.text_analytics.count_words(wiki['text'])\n",
    "wiki['tf_idf'] = gl.text_analytics.tf_idf(wiki['word_count'])"
   ]
  },
  {
   "cell_type": "markdown",
   "metadata": {},
   "source": [
    "For each of our two different document representations, we can use GraphLab Create to compute a brute-force nearest neighbors model:"
   ]
  },
  {
   "cell_type": "code",
   "execution_count": 61,
   "metadata": {},
   "outputs": [
    {
     "data": {
      "text/html": [
       "<pre>Starting brute force nearest neighbors model training.</pre>"
      ],
      "text/plain": [
       "Starting brute force nearest neighbors model training."
      ]
     },
     "metadata": {},
     "output_type": "display_data"
    },
    {
     "data": {
      "text/html": [
       "<pre>Starting brute force nearest neighbors model training.</pre>"
      ],
      "text/plain": [
       "Starting brute force nearest neighbors model training."
      ]
     },
     "metadata": {},
     "output_type": "display_data"
    }
   ],
   "source": [
    "model_tf_idf = gl.nearest_neighbors.create(wiki, label='name', features=['tf_idf'],\n",
    "                                           method='brute_force', distance='cosine')\n",
    "model_lda_rep = gl.nearest_neighbors.create(wiki, label='name', features=['lda'],\n",
    "                                            method='brute_force', distance='cosine')"
   ]
  },
  {
   "cell_type": "markdown",
   "metadata": {},
   "source": [
    "Let's compare these nearest neighbor models by finding the nearest neighbors under each representation on an example document. For this example we'll use Paul Krugman, an American economist:"
   ]
  },
  {
   "cell_type": "code",
   "execution_count": 62,
   "metadata": {},
   "outputs": [
    {
     "data": {
      "text/html": [
       "<pre>Starting pairwise querying.</pre>"
      ],
      "text/plain": [
       "Starting pairwise querying."
      ]
     },
     "metadata": {},
     "output_type": "display_data"
    },
    {
     "data": {
      "text/html": [
       "<pre>+--------------+---------+-------------+--------------+</pre>"
      ],
      "text/plain": [
       "+--------------+---------+-------------+--------------+"
      ]
     },
     "metadata": {},
     "output_type": "display_data"
    },
    {
     "data": {
      "text/html": [
       "<pre>| Query points | # Pairs | % Complete. | Elapsed Time |</pre>"
      ],
      "text/plain": [
       "| Query points | # Pairs | % Complete. | Elapsed Time |"
      ]
     },
     "metadata": {},
     "output_type": "display_data"
    },
    {
     "data": {
      "text/html": [
       "<pre>+--------------+---------+-------------+--------------+</pre>"
      ],
      "text/plain": [
       "+--------------+---------+-------------+--------------+"
      ]
     },
     "metadata": {},
     "output_type": "display_data"
    },
    {
     "data": {
      "text/html": [
       "<pre>| 0            | 1       | 0.00169288  | 34.975ms     |</pre>"
      ],
      "text/plain": [
       "| 0            | 1       | 0.00169288  | 34.975ms     |"
      ]
     },
     "metadata": {},
     "output_type": "display_data"
    },
    {
     "data": {
      "text/html": [
       "<pre>| Done         |         | 100         | 411.213ms    |</pre>"
      ],
      "text/plain": [
       "| Done         |         | 100         | 411.213ms    |"
      ]
     },
     "metadata": {},
     "output_type": "display_data"
    },
    {
     "data": {
      "text/html": [
       "<pre>+--------------+---------+-------------+--------------+</pre>"
      ],
      "text/plain": [
       "+--------------+---------+-------------+--------------+"
      ]
     },
     "metadata": {},
     "output_type": "display_data"
    },
    {
     "data": {
      "text/html": [
       "<div style=\"max-height:1000px;max-width:1500px;overflow:auto;\"><table frame=\"box\" rules=\"cols\">\n",
       "    <tr>\n",
       "        <th style=\"padding-left: 1em; padding-right: 1em; text-align: center\">query_label</th>\n",
       "        <th style=\"padding-left: 1em; padding-right: 1em; text-align: center\">reference_label</th>\n",
       "        <th style=\"padding-left: 1em; padding-right: 1em; text-align: center\">distance</th>\n",
       "        <th style=\"padding-left: 1em; padding-right: 1em; text-align: center\">rank</th>\n",
       "    </tr>\n",
       "    <tr>\n",
       "        <td style=\"padding-left: 1em; padding-right: 1em; text-align: center; vertical-align: top\">Paul Krugman</td>\n",
       "        <td style=\"padding-left: 1em; padding-right: 1em; text-align: center; vertical-align: top\">Paul Krugman</td>\n",
       "        <td style=\"padding-left: 1em; padding-right: 1em; text-align: center; vertical-align: top\">0.0</td>\n",
       "        <td style=\"padding-left: 1em; padding-right: 1em; text-align: center; vertical-align: top\">1</td>\n",
       "    </tr>\n",
       "    <tr>\n",
       "        <td style=\"padding-left: 1em; padding-right: 1em; text-align: center; vertical-align: top\">Paul Krugman</td>\n",
       "        <td style=\"padding-left: 1em; padding-right: 1em; text-align: center; vertical-align: top\">Elise Brezis</td>\n",
       "        <td style=\"padding-left: 1em; padding-right: 1em; text-align: center; vertical-align: top\">0.744498017262</td>\n",
       "        <td style=\"padding-left: 1em; padding-right: 1em; text-align: center; vertical-align: top\">2</td>\n",
       "    </tr>\n",
       "    <tr>\n",
       "        <td style=\"padding-left: 1em; padding-right: 1em; text-align: center; vertical-align: top\">Paul Krugman</td>\n",
       "        <td style=\"padding-left: 1em; padding-right: 1em; text-align: center; vertical-align: top\">Maitreesh Ghatak</td>\n",
       "        <td style=\"padding-left: 1em; padding-right: 1em; text-align: center; vertical-align: top\">0.81564984831</td>\n",
       "        <td style=\"padding-left: 1em; padding-right: 1em; text-align: center; vertical-align: top\">3</td>\n",
       "    </tr>\n",
       "    <tr>\n",
       "        <td style=\"padding-left: 1em; padding-right: 1em; text-align: center; vertical-align: top\">Paul Krugman</td>\n",
       "        <td style=\"padding-left: 1em; padding-right: 1em; text-align: center; vertical-align: top\">Kai A. Konrad</td>\n",
       "        <td style=\"padding-left: 1em; padding-right: 1em; text-align: center; vertical-align: top\">0.823700564406</td>\n",
       "        <td style=\"padding-left: 1em; padding-right: 1em; text-align: center; vertical-align: top\">4</td>\n",
       "    </tr>\n",
       "    <tr>\n",
       "        <td style=\"padding-left: 1em; padding-right: 1em; text-align: center; vertical-align: top\">Paul Krugman</td>\n",
       "        <td style=\"padding-left: 1em; padding-right: 1em; text-align: center; vertical-align: top\">David Colander</td>\n",
       "        <td style=\"padding-left: 1em; padding-right: 1em; text-align: center; vertical-align: top\">0.834625927759</td>\n",
       "        <td style=\"padding-left: 1em; padding-right: 1em; text-align: center; vertical-align: top\">5</td>\n",
       "    </tr>\n",
       "    <tr>\n",
       "        <td style=\"padding-left: 1em; padding-right: 1em; text-align: center; vertical-align: top\">Paul Krugman</td>\n",
       "        <td style=\"padding-left: 1em; padding-right: 1em; text-align: center; vertical-align: top\">Richard Blundell</td>\n",
       "        <td style=\"padding-left: 1em; padding-right: 1em; text-align: center; vertical-align: top\">0.837934267874</td>\n",
       "        <td style=\"padding-left: 1em; padding-right: 1em; text-align: center; vertical-align: top\">6</td>\n",
       "    </tr>\n",
       "    <tr>\n",
       "        <td style=\"padding-left: 1em; padding-right: 1em; text-align: center; vertical-align: top\">Paul Krugman</td>\n",
       "        <td style=\"padding-left: 1em; padding-right: 1em; text-align: center; vertical-align: top\">Gordon Rausser</td>\n",
       "        <td style=\"padding-left: 1em; padding-right: 1em; text-align: center; vertical-align: top\">0.83941534706</td>\n",
       "        <td style=\"padding-left: 1em; padding-right: 1em; text-align: center; vertical-align: top\">7</td>\n",
       "    </tr>\n",
       "    <tr>\n",
       "        <td style=\"padding-left: 1em; padding-right: 1em; text-align: center; vertical-align: top\">Paul Krugman</td>\n",
       "        <td style=\"padding-left: 1em; padding-right: 1em; text-align: center; vertical-align: top\">Edward J. Nell</td>\n",
       "        <td style=\"padding-left: 1em; padding-right: 1em; text-align: center; vertical-align: top\">0.842178500015</td>\n",
       "        <td style=\"padding-left: 1em; padding-right: 1em; text-align: center; vertical-align: top\">8</td>\n",
       "    </tr>\n",
       "    <tr>\n",
       "        <td style=\"padding-left: 1em; padding-right: 1em; text-align: center; vertical-align: top\">Paul Krugman</td>\n",
       "        <td style=\"padding-left: 1em; padding-right: 1em; text-align: center; vertical-align: top\">Robin Boadway</td>\n",
       "        <td style=\"padding-left: 1em; padding-right: 1em; text-align: center; vertical-align: top\">0.842374260596</td>\n",
       "        <td style=\"padding-left: 1em; padding-right: 1em; text-align: center; vertical-align: top\">9</td>\n",
       "    </tr>\n",
       "    <tr>\n",
       "        <td style=\"padding-left: 1em; padding-right: 1em; text-align: center; vertical-align: top\">Paul Krugman</td>\n",
       "        <td style=\"padding-left: 1em; padding-right: 1em; text-align: center; vertical-align: top\">Tim Besley</td>\n",
       "        <td style=\"padding-left: 1em; padding-right: 1em; text-align: center; vertical-align: top\">0.843088109253</td>\n",
       "        <td style=\"padding-left: 1em; padding-right: 1em; text-align: center; vertical-align: top\">10</td>\n",
       "    </tr>\n",
       "</table>\n",
       "[10 rows x 4 columns]<br/>\n",
       "</div>"
      ],
      "text/plain": [
       "Columns:\n",
       "\tquery_label\tstr\n",
       "\treference_label\tstr\n",
       "\tdistance\tfloat\n",
       "\trank\tint\n",
       "\n",
       "Rows: 10\n",
       "\n",
       "Data:\n",
       "+--------------+------------------+----------------+------+\n",
       "| query_label  | reference_label  |    distance    | rank |\n",
       "+--------------+------------------+----------------+------+\n",
       "| Paul Krugman |   Paul Krugman   |      0.0       |  1   |\n",
       "| Paul Krugman |   Elise Brezis   | 0.744498017262 |  2   |\n",
       "| Paul Krugman | Maitreesh Ghatak | 0.81564984831  |  3   |\n",
       "| Paul Krugman |  Kai A. Konrad   | 0.823700564406 |  4   |\n",
       "| Paul Krugman |  David Colander  | 0.834625927759 |  5   |\n",
       "| Paul Krugman | Richard Blundell | 0.837934267874 |  6   |\n",
       "| Paul Krugman |  Gordon Rausser  | 0.83941534706  |  7   |\n",
       "| Paul Krugman |  Edward J. Nell  | 0.842178500015 |  8   |\n",
       "| Paul Krugman |  Robin Boadway   | 0.842374260596 |  9   |\n",
       "| Paul Krugman |    Tim Besley    | 0.843088109253 |  10  |\n",
       "+--------------+------------------+----------------+------+\n",
       "[10 rows x 4 columns]"
      ]
     },
     "execution_count": 62,
     "metadata": {},
     "output_type": "execute_result"
    }
   ],
   "source": [
    "model_tf_idf.query(wiki[wiki['name'] == 'Paul Krugman'], label='name', k=10)"
   ]
  },
  {
   "cell_type": "code",
   "execution_count": 63,
   "metadata": {},
   "outputs": [
    {
     "data": {
      "text/html": [
       "<pre>Starting pairwise querying.</pre>"
      ],
      "text/plain": [
       "Starting pairwise querying."
      ]
     },
     "metadata": {},
     "output_type": "display_data"
    },
    {
     "data": {
      "text/html": [
       "<pre>+--------------+---------+-------------+--------------+</pre>"
      ],
      "text/plain": [
       "+--------------+---------+-------------+--------------+"
      ]
     },
     "metadata": {},
     "output_type": "display_data"
    },
    {
     "data": {
      "text/html": [
       "<pre>| Query points | # Pairs | % Complete. | Elapsed Time |</pre>"
      ],
      "text/plain": [
       "| Query points | # Pairs | % Complete. | Elapsed Time |"
      ]
     },
     "metadata": {},
     "output_type": "display_data"
    },
    {
     "data": {
      "text/html": [
       "<pre>+--------------+---------+-------------+--------------+</pre>"
      ],
      "text/plain": [
       "+--------------+---------+-------------+--------------+"
      ]
     },
     "metadata": {},
     "output_type": "display_data"
    },
    {
     "data": {
      "text/html": [
       "<pre>| 0            | 1       | 0.00169288  | 9.701ms      |</pre>"
      ],
      "text/plain": [
       "| 0            | 1       | 0.00169288  | 9.701ms      |"
      ]
     },
     "metadata": {},
     "output_type": "display_data"
    },
    {
     "data": {
      "text/html": [
       "<pre>| Done         |         | 100         | 46.809ms     |</pre>"
      ],
      "text/plain": [
       "| Done         |         | 100         | 46.809ms     |"
      ]
     },
     "metadata": {},
     "output_type": "display_data"
    },
    {
     "data": {
      "text/html": [
       "<pre>+--------------+---------+-------------+--------------+</pre>"
      ],
      "text/plain": [
       "+--------------+---------+-------------+--------------+"
      ]
     },
     "metadata": {},
     "output_type": "display_data"
    },
    {
     "data": {
      "text/html": [
       "<div style=\"max-height:1000px;max-width:1500px;overflow:auto;\"><table frame=\"box\" rules=\"cols\">\n",
       "    <tr>\n",
       "        <th style=\"padding-left: 1em; padding-right: 1em; text-align: center\">query_label</th>\n",
       "        <th style=\"padding-left: 1em; padding-right: 1em; text-align: center\">reference_label</th>\n",
       "        <th style=\"padding-left: 1em; padding-right: 1em; text-align: center\">distance</th>\n",
       "        <th style=\"padding-left: 1em; padding-right: 1em; text-align: center\">rank</th>\n",
       "    </tr>\n",
       "    <tr>\n",
       "        <td style=\"padding-left: 1em; padding-right: 1em; text-align: center; vertical-align: top\">Paul Krugman</td>\n",
       "        <td style=\"padding-left: 1em; padding-right: 1em; text-align: center; vertical-align: top\">Paul Krugman</td>\n",
       "        <td style=\"padding-left: 1em; padding-right: 1em; text-align: center; vertical-align: top\">-2.22044604925e-16</td>\n",
       "        <td style=\"padding-left: 1em; padding-right: 1em; text-align: center; vertical-align: top\">1</td>\n",
       "    </tr>\n",
       "    <tr>\n",
       "        <td style=\"padding-left: 1em; padding-right: 1em; text-align: center; vertical-align: top\">Paul Krugman</td>\n",
       "        <td style=\"padding-left: 1em; padding-right: 1em; text-align: center; vertical-align: top\">Bill Ryan (professor)</td>\n",
       "        <td style=\"padding-left: 1em; padding-right: 1em; text-align: center; vertical-align: top\">0.00562051796432</td>\n",
       "        <td style=\"padding-left: 1em; padding-right: 1em; text-align: center; vertical-align: top\">2</td>\n",
       "    </tr>\n",
       "    <tr>\n",
       "        <td style=\"padding-left: 1em; padding-right: 1em; text-align: center; vertical-align: top\">Paul Krugman</td>\n",
       "        <td style=\"padding-left: 1em; padding-right: 1em; text-align: center; vertical-align: top\">Nobukatsu Fujioka</td>\n",
       "        <td style=\"padding-left: 1em; padding-right: 1em; text-align: center; vertical-align: top\">0.0107216375754</td>\n",
       "        <td style=\"padding-left: 1em; padding-right: 1em; text-align: center; vertical-align: top\">3</td>\n",
       "    </tr>\n",
       "    <tr>\n",
       "        <td style=\"padding-left: 1em; padding-right: 1em; text-align: center; vertical-align: top\">Paul Krugman</td>\n",
       "        <td style=\"padding-left: 1em; padding-right: 1em; text-align: center; vertical-align: top\">Philip E. Tetlock</td>\n",
       "        <td style=\"padding-left: 1em; padding-right: 1em; text-align: center; vertical-align: top\">0.0115669248382</td>\n",
       "        <td style=\"padding-left: 1em; padding-right: 1em; text-align: center; vertical-align: top\">4</td>\n",
       "    </tr>\n",
       "    <tr>\n",
       "        <td style=\"padding-left: 1em; padding-right: 1em; text-align: center; vertical-align: top\">Paul Krugman</td>\n",
       "        <td style=\"padding-left: 1em; padding-right: 1em; text-align: center; vertical-align: top\">Nella Cotrupi</td>\n",
       "        <td style=\"padding-left: 1em; padding-right: 1em; text-align: center; vertical-align: top\">0.0120830213378</td>\n",
       "        <td style=\"padding-left: 1em; padding-right: 1em; text-align: center; vertical-align: top\">5</td>\n",
       "    </tr>\n",
       "    <tr>\n",
       "        <td style=\"padding-left: 1em; padding-right: 1em; text-align: center; vertical-align: top\">Paul Krugman</td>\n",
       "        <td style=\"padding-left: 1em; padding-right: 1em; text-align: center; vertical-align: top\">Allen Feldman</td>\n",
       "        <td style=\"padding-left: 1em; padding-right: 1em; text-align: center; vertical-align: top\">0.012896683597</td>\n",
       "        <td style=\"padding-left: 1em; padding-right: 1em; text-align: center; vertical-align: top\">6</td>\n",
       "    </tr>\n",
       "    <tr>\n",
       "        <td style=\"padding-left: 1em; padding-right: 1em; text-align: center; vertical-align: top\">Paul Krugman</td>\n",
       "        <td style=\"padding-left: 1em; padding-right: 1em; text-align: center; vertical-align: top\">Herbert Kitschelt</td>\n",
       "        <td style=\"padding-left: 1em; padding-right: 1em; text-align: center; vertical-align: top\">0.013668238126</td>\n",
       "        <td style=\"padding-left: 1em; padding-right: 1em; text-align: center; vertical-align: top\">7</td>\n",
       "    </tr>\n",
       "    <tr>\n",
       "        <td style=\"padding-left: 1em; padding-right: 1em; text-align: center; vertical-align: top\">Paul Krugman</td>\n",
       "        <td style=\"padding-left: 1em; padding-right: 1em; text-align: center; vertical-align: top\">James Fearon</td>\n",
       "        <td style=\"padding-left: 1em; padding-right: 1em; text-align: center; vertical-align: top\">0.0138960569348</td>\n",
       "        <td style=\"padding-left: 1em; padding-right: 1em; text-align: center; vertical-align: top\">8</td>\n",
       "    </tr>\n",
       "    <tr>\n",
       "        <td style=\"padding-left: 1em; padding-right: 1em; text-align: center; vertical-align: top\">Paul Krugman</td>\n",
       "        <td style=\"padding-left: 1em; padding-right: 1em; text-align: center; vertical-align: top\">Clifford J. Rogers</td>\n",
       "        <td style=\"padding-left: 1em; padding-right: 1em; text-align: center; vertical-align: top\">0.0143028704477</td>\n",
       "        <td style=\"padding-left: 1em; padding-right: 1em; text-align: center; vertical-align: top\">9</td>\n",
       "    </tr>\n",
       "    <tr>\n",
       "        <td style=\"padding-left: 1em; padding-right: 1em; text-align: center; vertical-align: top\">Paul Krugman</td>\n",
       "        <td style=\"padding-left: 1em; padding-right: 1em; text-align: center; vertical-align: top\">Walter Truett Anderson</td>\n",
       "        <td style=\"padding-left: 1em; padding-right: 1em; text-align: center; vertical-align: top\">0.0144759740702</td>\n",
       "        <td style=\"padding-left: 1em; padding-right: 1em; text-align: center; vertical-align: top\">10</td>\n",
       "    </tr>\n",
       "</table>\n",
       "[10 rows x 4 columns]<br/>\n",
       "</div>"
      ],
      "text/plain": [
       "Columns:\n",
       "\tquery_label\tstr\n",
       "\treference_label\tstr\n",
       "\tdistance\tfloat\n",
       "\trank\tint\n",
       "\n",
       "Rows: 10\n",
       "\n",
       "Data:\n",
       "+--------------+------------------------+--------------------+------+\n",
       "| query_label  |    reference_label     |      distance      | rank |\n",
       "+--------------+------------------------+--------------------+------+\n",
       "| Paul Krugman |      Paul Krugman      | -2.22044604925e-16 |  1   |\n",
       "| Paul Krugman | Bill Ryan (professor)  |  0.00562051796432  |  2   |\n",
       "| Paul Krugman |   Nobukatsu Fujioka    |  0.0107216375754   |  3   |\n",
       "| Paul Krugman |   Philip E. Tetlock    |  0.0115669248382   |  4   |\n",
       "| Paul Krugman |     Nella Cotrupi      |  0.0120830213378   |  5   |\n",
       "| Paul Krugman |     Allen Feldman      |   0.012896683597   |  6   |\n",
       "| Paul Krugman |   Herbert Kitschelt    |   0.013668238126   |  7   |\n",
       "| Paul Krugman |      James Fearon      |  0.0138960569348   |  8   |\n",
       "| Paul Krugman |   Clifford J. Rogers   |  0.0143028704477   |  9   |\n",
       "| Paul Krugman | Walter Truett Anderson |  0.0144759740702   |  10  |\n",
       "+--------------+------------------------+--------------------+------+\n",
       "[10 rows x 4 columns]"
      ]
     },
     "execution_count": 63,
     "metadata": {},
     "output_type": "execute_result"
    }
   ],
   "source": [
    "model_lda_rep.query(wiki[wiki['name'] == 'Paul Krugman'], label='name', k=10)"
   ]
  },
  {
   "cell_type": "markdown",
   "metadata": {},
   "source": [
    "Notice that that there is no overlap between the two sets of top 10 nearest neighbors. This doesn't necessarily mean that one representation is better or worse than the other, but rather that they are picking out different features of the documents. \n",
    "\n",
    "With TF-IDF, documents are distinguished by the frequency of uncommon words. Since similarity is defined based on the specific words used in the document, documents that are \"close\" under TF-IDF tend to be similar in terms of specific details. This is what we see in the example: the top 10 nearest neighbors are all economists from the US, UK, or Canada. \n",
    "\n",
    "Our LDA representation, on the other hand, defines similarity between documents in terms of their topic distributions. This means that documents can be \"close\" if they share similar themes, even though they may not share many of the same keywords. For the article on Paul Krugman, we expect the most important topics to be 'American college and politics' and 'science and research'. As a result, we see that the top 10 nearest neighbors are academics from a wide variety of fields, including literature, anthropology, and religious studies.\n",
    "\n",
    "\n",
    "__Quiz Question:__ Using the TF-IDF representation, compute the 5000 nearest neighbors for American baseball player Alex Rodriguez. For what value of k is Mariano Rivera the k-th nearest neighbor to Alex Rodriguez? (Hint: Once you have a list of the nearest neighbors, you can use `mylist.index(value)` to find the index of the first instance of `value` in `mylist`.)\n",
    "\n",
    "__Quiz Question:__ Using the LDA representation, compute the 5000 nearest neighbors for American baseball player Alex Rodriguez. For what value of k is Mariano Rivera the k-th nearest neighbor to Alex Rodriguez? (Hint: Once you have a list of the nearest neighbors, you can use `mylist.index(value)` to find the index of the first instance of `value` in `mylist`.)"
   ]
  },
  {
   "cell_type": "code",
   "execution_count": 78,
   "metadata": {},
   "outputs": [
    {
     "data": {
      "text/html": [
       "<pre>Starting pairwise querying.</pre>"
      ],
      "text/plain": [
       "Starting pairwise querying."
      ]
     },
     "metadata": {},
     "output_type": "display_data"
    },
    {
     "data": {
      "text/html": [
       "<pre>+--------------+---------+-------------+--------------+</pre>"
      ],
      "text/plain": [
       "+--------------+---------+-------------+--------------+"
      ]
     },
     "metadata": {},
     "output_type": "display_data"
    },
    {
     "data": {
      "text/html": [
       "<pre>| Query points | # Pairs | % Complete. | Elapsed Time |</pre>"
      ],
      "text/plain": [
       "| Query points | # Pairs | % Complete. | Elapsed Time |"
      ]
     },
     "metadata": {},
     "output_type": "display_data"
    },
    {
     "data": {
      "text/html": [
       "<pre>+--------------+---------+-------------+--------------+</pre>"
      ],
      "text/plain": [
       "+--------------+---------+-------------+--------------+"
      ]
     },
     "metadata": {},
     "output_type": "display_data"
    },
    {
     "data": {
      "text/html": [
       "<pre>| 0            | 1       | 0.00169288  | 26.552ms     |</pre>"
      ],
      "text/plain": [
       "| 0            | 1       | 0.00169288  | 26.552ms     |"
      ]
     },
     "metadata": {},
     "output_type": "display_data"
    },
    {
     "data": {
      "text/html": [
       "<pre>| Done         |         | 100         | 410.787ms    |</pre>"
      ],
      "text/plain": [
       "| Done         |         | 100         | 410.787ms    |"
      ]
     },
     "metadata": {},
     "output_type": "display_data"
    },
    {
     "data": {
      "text/html": [
       "<pre>+--------------+---------+-------------+--------------+</pre>"
      ],
      "text/plain": [
       "+--------------+---------+-------------+--------------+"
      ]
     },
     "metadata": {},
     "output_type": "display_data"
    },
    {
     "data": {
      "text/html": [
       "<pre>Starting pairwise querying.</pre>"
      ],
      "text/plain": [
       "Starting pairwise querying."
      ]
     },
     "metadata": {},
     "output_type": "display_data"
    },
    {
     "data": {
      "text/html": [
       "<pre>+--------------+---------+-------------+--------------+</pre>"
      ],
      "text/plain": [
       "+--------------+---------+-------------+--------------+"
      ]
     },
     "metadata": {},
     "output_type": "display_data"
    },
    {
     "data": {
      "text/html": [
       "<pre>| Query points | # Pairs | % Complete. | Elapsed Time |</pre>"
      ],
      "text/plain": [
       "| Query points | # Pairs | % Complete. | Elapsed Time |"
      ]
     },
     "metadata": {},
     "output_type": "display_data"
    },
    {
     "data": {
      "text/html": [
       "<pre>+--------------+---------+-------------+--------------+</pre>"
      ],
      "text/plain": [
       "+--------------+---------+-------------+--------------+"
      ]
     },
     "metadata": {},
     "output_type": "display_data"
    },
    {
     "data": {
      "text/html": [
       "<pre>| 0            | 1       | 0.00169288  | 10.241ms     |</pre>"
      ],
      "text/plain": [
       "| 0            | 1       | 0.00169288  | 10.241ms     |"
      ]
     },
     "metadata": {},
     "output_type": "display_data"
    },
    {
     "data": {
      "text/html": [
       "<pre>| Done         |         | 100         | 45.82ms      |</pre>"
      ],
      "text/plain": [
       "| Done         |         | 100         | 45.82ms      |"
      ]
     },
     "metadata": {},
     "output_type": "display_data"
    },
    {
     "data": {
      "text/html": [
       "<pre>+--------------+---------+-------------+--------------+</pre>"
      ],
      "text/plain": [
       "+--------------+---------+-------------+--------------+"
      ]
     },
     "metadata": {},
     "output_type": "display_data"
    }
   ],
   "source": [
    "alex_neighbours_tfidf = model_tf_idf.query(wiki[wiki['name'] == 'Alex Rodriguez'], label='name', k=5000)\n",
    "alex_neighbours_lda = model_lda_rep.query(wiki[wiki['name'] == 'Alex Rodriguez'], label='name', k=5000)"
   ]
  },
  {
   "cell_type": "code",
   "execution_count": 79,
   "metadata": {},
   "outputs": [
    {
     "name": "stdout",
     "output_type": "stream",
     "text": [
      "52\n",
      "1242\n"
     ]
    }
   ],
   "source": [
    "mylist_tfidf = list(alex_neighbours_tfidf['reference_label'])\n",
    "mylist_lda = list(alex_neighbours_lda['reference_label'])\n",
    "print mylist_tfidf.index('Mariano Rivera')\n",
    "print mylist_lda.index('Mariano Rivera')"
   ]
  },
  {
   "cell_type": "markdown",
   "metadata": {},
   "source": [
    "# Understanding the role of LDA model hyperparameters\n",
    "\n",
    "Finally, we'll take a look at the effect of the LDA model hyperparameters alpha and gamma on the characteristics of our fitted model. Recall that alpha is a parameter of the prior distribution over topic weights in each document, while gamma is a parameter of the prior distribution over word weights in each topic. \n",
    "\n",
    "In the video lectures, we saw that alpha and gamma can be thought of as smoothing parameters when we compute how much each document \"likes\" a topic (in the case of alpha) or how much each topic \"likes\" a word (in the case of gamma). In both cases, these parameters serve to reduce the differences across topics or words in terms of these calculated preferences; alpha makes the document preferences \"smoother\" over topics, and gamma makes the topic preferences \"smoother\" over words.\n",
    "\n",
    "Our goal in this section will be to understand how changing these parameter values affects the characteristics of the resulting topic model.\n",
    "\n",
    "__Quiz Question:__ What was the value of alpha used to fit our original topic model? "
   ]
  },
  {
   "cell_type": "code",
   "execution_count": 80,
   "metadata": {
    "collapsed": true
   },
   "outputs": [],
   "source": [
    "alpha = 5.0"
   ]
  },
  {
   "cell_type": "markdown",
   "metadata": {},
   "source": [
    "__Quiz Question:__ What was the value of gamma used to fit our original topic model? Remember that GraphLab Create uses \"beta\" instead of \"gamma\" to refer to the hyperparameter that influences topic distributions over words."
   ]
  },
  {
   "cell_type": "code",
   "execution_count": 81,
   "metadata": {
    "collapsed": true
   },
   "outputs": [],
   "source": [
    "gamma = 0.1"
   ]
  },
  {
   "cell_type": "markdown",
   "metadata": {},
   "source": [
    "We'll start by loading some topic models that have been trained using different settings of alpha and gamma. Specifically, we will start by comparing the following two models to our original topic model:\n",
    " - tpm_low_alpha, a model trained with alpha = 1 and default gamma\n",
    " - tpm_high_alpha, a model trained with alpha = 50 and default gamma"
   ]
  },
  {
   "cell_type": "code",
   "execution_count": 119,
   "metadata": {
    "collapsed": true
   },
   "outputs": [],
   "source": [
    "tpm_low_alpha = gl.load_model('lda_low_alpha')\n",
    "tpm_high_alpha = gl.load_model('lda_high_alpha')"
   ]
  },
  {
   "cell_type": "markdown",
   "metadata": {},
   "source": [
    "### Changing the hyperparameter alpha\n",
    "\n",
    "Since alpha is responsible for smoothing document preferences over topics, the impact of changing its value should be visible when we plot the distribution of topic weights for the same document under models fit with different alpha values. In the code below, we plot the (sorted) topic weights for the Wikipedia article on Barack Obama under models fit with high, original, and low settings of alpha."
   ]
  },
  {
   "cell_type": "code",
   "execution_count": 83,
   "metadata": {},
   "outputs": [
    {
     "data": {
      "image/png": "[encoded data removed]",
      "text/plain": [
       "<matplotlib.figure.Figure at 0x13882ab90>"
      ]
     },
     "metadata": {},
     "output_type": "display_data"
    }
   ],
   "source": [
    "a = np.sort(tpm_low_alpha.predict(obama,output_type='probability')[0])[::-1]\n",
    "b = np.sort(topic_model.predict(obama,output_type='probability')[0])[::-1]\n",
    "c = np.sort(tpm_high_alpha.predict(obama,output_type='probability')[0])[::-1]\n",
    "ind = np.arange(len(a))\n",
    "width = 0.3\n",
    "\n",
    "def param_bar_plot(a,b,c,ind,width,ylim,param,xlab,ylab):\n",
    "    fig = plt.figure()\n",
    "    ax = fig.add_subplot(111)\n",
    "\n",
    "    b1 = ax.bar(ind, a, width, color='lightskyblue')\n",
    "    b2 = ax.bar(ind+width, b, width, color='lightcoral')\n",
    "    b3 = ax.bar(ind+(2*width), c, width, color='gold')\n",
    "\n",
    "    ax.set_xticks(ind+width)\n",
    "    ax.set_xticklabels(range(10))\n",
    "    ax.set_ylabel(ylab)\n",
    "    ax.set_xlabel(xlab)\n",
    "    ax.set_ylim(0,ylim)\n",
    "    ax.legend(handles = [b1,b2,b3],labels=['low '+param,'original model','high '+param])\n",
    "\n",
    "    plt.tight_layout()\n",
    "    \n",
    "param_bar_plot(a,b,c,ind,width,ylim=1.0,param='alpha',\n",
    "               xlab='Topics (sorted by weight of top 100 words)',ylab='Topic Probability for Obama Article')"
   ]
  },
  {
   "cell_type": "markdown",
   "metadata": {},
   "source": [
    "Here we can clearly see the smoothing enforced by the alpha parameter - notice that when alpha is low most of the weight in the topic distribution for this article goes to a single topic, but when alpha is high the weight is much more evenly distributed across the topics.\n",
    "\n",
    "__Quiz Question:__ How many topics are assigned a weight greater than 0.3 or less than 0.05 for the article on Paul Krugman in the **low alpha** model?  Use the average results from 100 topic predictions."
   ]
  },
  {
   "cell_type": "code",
   "execution_count": 120,
   "metadata": {},
   "outputs": [
    {
     "name": "stdout",
     "output_type": "stream",
     "text": [
      "+---------------------+-------------------------------+\n",
      "| average predictions |             topics            |\n",
      "+---------------------+-------------------------------+\n",
      "|    0.62962962963    |       art and publishing      |\n",
      "|    0.217037037037   |      music, TV, and film      |\n",
      "|         0.06        |      international music      |\n",
      "|   0.0164197530864   |    international athletics    |\n",
      "|   0.0158024691358   |  Great Britain and Australia  |\n",
      "|   0.0146913580247   | American college and politics |\n",
      "|   0.0136419753086   |          team sports          |\n",
      "|   0.0123456790123   |      science and research     |\n",
      "|   0.0102469135802   |        general politics       |\n",
      "|   0.0101851851852   |            Business           |\n",
      "+---------------------+-------------------------------+\n",
      "[10 rows x 2 columns]\n",
      "\n"
     ]
    }
   ],
   "source": [
    "krugman = gl.SArray([wiki_docs[int(np.where(wiki['name']=='Paul Krugman')[0])]])\n",
    "print average_predictions(tpm_low_alpha, krugman, 100)"
   ]
  },
  {
   "cell_type": "markdown",
   "metadata": {},
   "source": [
    "__Quiz Question:__ How many topics are assigned a weight greater than 0.3 or less than 0.05 for the article on Paul Krugman in the **high alpha** model? Use the average results from 100 topic predictions."
   ]
  },
  {
   "cell_type": "code",
   "execution_count": 121,
   "metadata": {},
   "outputs": [
    {
     "name": "stdout",
     "output_type": "stream",
     "text": [
      "+---------------------+-------------------------------+\n",
      "| average predictions |             topics            |\n",
      "+---------------------+-------------------------------+\n",
      "|    0.323849206349   |  Great Britain and Australia  |\n",
      "|    0.188333333333   |    international athletics    |\n",
      "|   0.0909126984127   |       art and publishing      |\n",
      "|   0.0611111111111   |      international music      |\n",
      "|   0.0607142857143   |            Business           |\n",
      "|   0.0592063492063   |          team sports          |\n",
      "|   0.0587698412698   | American college and politics |\n",
      "|   0.0587301587302   |      music, TV, and film      |\n",
      "|    0.050753968254   |        general politics       |\n",
      "|    0.047619047619   |      science and research     |\n",
      "+---------------------+-------------------------------+\n",
      "[10 rows x 2 columns]\n",
      "\n"
     ]
    }
   ],
   "source": [
    "print average_predictions(tpm_high_alpha, krugman, 100)"
   ]
  },
  {
   "cell_type": "markdown",
   "metadata": {},
   "source": [
    "### Changing the hyperparameter gamma\n",
    "\n",
    "Just as we were able to see the effect of alpha by plotting topic weights for a document, we expect to be able to visualize the impact of changing gamma by plotting word weights for each topic. In this case, however, there are far too many words in our vocabulary to do this effectively. Instead, we'll plot the total weight of the top 100 words and bottom 1000 words for each topic. Below, we plot the (sorted) total weights of the top 100 words and bottom 1000 from each topic in the high, original, and low gamma models."
   ]
  },
  {
   "cell_type": "markdown",
   "metadata": {},
   "source": [
    "Now we will consider the following two models:\n",
    " - tpm_low_gamma, a model trained with gamma = 0.02 and default alpha\n",
    " - tpm_high_gamma, a model trained with gamma = 0.5 and default alpha"
   ]
  },
  {
   "cell_type": "code",
   "execution_count": 94,
   "metadata": {
    "collapsed": true
   },
   "outputs": [],
   "source": [
    "del tpm_low_alpha\n",
    "del tpm_high_alpha\n",
    "tpm_low_gamma = gl.load_model('lda_low_gamma')\n",
    "tpm_high_gamma = gl.load_model('lda_high_gamma')"
   ]
  },
  {
   "cell_type": "code",
   "execution_count": 95,
   "metadata": {},
   "outputs": [
    {
     "data": {
      "image/png": "[encoded data removed]",
      "text/plain": [
       "<matplotlib.figure.Figure at 0x137aec7d0>"
      ]
     },
     "metadata": {},
     "output_type": "display_data"
    },
    {
     "data": {
      "image/png": "[encoded data removed]",
      "text/plain": [
       "<matplotlib.figure.Figure at 0x137aec650>"
      ]
     },
     "metadata": {},
     "output_type": "display_data"
    }
   ],
   "source": [
    "a_top = np.sort([sum(tpm_low_gamma.get_topics(topic_ids=[i], num_words=100)['score']) for i in range(10)])[::-1]\n",
    "b_top = np.sort([sum(topic_model.get_topics(topic_ids=[i], num_words=100)['score']) for i in range(10)])[::-1]\n",
    "c_top = np.sort([sum(tpm_high_gamma.get_topics(topic_ids=[i], num_words=100)['score']) for i in range(10)])[::-1]\n",
    "\n",
    "a_bot = np.sort([sum(tpm_low_gamma.get_topics(topic_ids=[i], num_words=547462)[-1000:]['score']) for i in range(10)])[::-1]\n",
    "b_bot = np.sort([sum(topic_model.get_topics(topic_ids=[i], num_words=547462)[-1000:]['score']) for i in range(10)])[::-1]\n",
    "c_bot = np.sort([sum(tpm_high_gamma.get_topics(topic_ids=[i], num_words=547462)[-1000:]['score']) for i in range(10)])[::-1]\n",
    "\n",
    "ind = np.arange(len(a))\n",
    "width = 0.3\n",
    "    \n",
    "param_bar_plot(a_top, b_top, c_top, ind, width, ylim=0.6, param='gamma',\n",
    "               xlab='Topics (sorted by weight of top 100 words)', \n",
    "               ylab='Total Probability of Top 100 Words')\n",
    "\n",
    "param_bar_plot(a_bot, b_bot, c_bot, ind, width, ylim=0.0002, param='gamma',\n",
    "               xlab='Topics (sorted by weight of bottom 1000 words)',\n",
    "               ylab='Total Probability of Bottom 1000 Words')"
   ]
  },
  {
   "cell_type": "markdown",
   "metadata": {
    "collapsed": true
   },
   "source": [
    "From these two plots we can see that the low gamma model results in higher weight placed on the top words and lower weight placed on the bottom words for each topic, while the high gamma model places relatively less weight on the top words and more weight on the bottom words. Thus increasing gamma results in topics that have a smoother distribution of weight across all the words in the vocabulary."
   ]
  },
  {
   "cell_type": "markdown",
   "metadata": {},
   "source": [
    "__Quiz Question:__ For each topic of the **low gamma model**, compute the number of words required to make a list with total probability 0.5. What is the average number of words required across all topics? (HINT: use the get\\_topics() function from GraphLab Create with the cdf\\_cutoff argument)."
   ]
  },
  {
   "cell_type": "code",
   "execution_count": 116,
   "metadata": {},
   "outputs": [
    {
     "name": "stdout",
     "output_type": "stream",
     "text": [
      "Number of words with cumulative probability 0.5 in each topic:\n",
      "_______________\n",
      "Topic 0 : 184\n",
      "Topic 1 : 163\n",
      "Topic 2 : 329\n",
      "Topic 3 : 139\n",
      "Topic 4 : 189\n",
      "Topic 5 : 153\n",
      "Topic 6 : 295\n",
      "Topic 7 : 482\n",
      "Topic 8 : 164\n",
      "Topic 9 : 426\n",
      "Average number of words: 252\n"
     ]
    }
   ],
   "source": [
    "print 'Number of words with cumulative probability 0.5 in each topic:'\n",
    "print '_______________'\n",
    "all_topics = 0\n",
    "for i in range(10):\n",
    "    topic_num = len(tpm_low_gamma.get_topics(topic_ids=[i], num_words=2000, cdf_cutoff=0.5)['topic'])\n",
    "    print 'Topic', i, ':', topic_num\n",
    "    all_topics += topic_num\n",
    "print 'Average number of words:', all_topics/10"
   ]
  },
  {
   "cell_type": "markdown",
   "metadata": {},
   "source": [
    "__Quiz Question:__ For each topic of the **high gamma model**, compute the number of words required to make a list with total probability 0.5. What is the average number of words required across all topics? (HINT: use the get\\_topics() function from GraphLab Create with the cdf\\_cutoff argument)."
   ]
  },
  {
   "cell_type": "code",
   "execution_count": 122,
   "metadata": {},
   "outputs": [
    {
     "name": "stdout",
     "output_type": "stream",
     "text": [
      "Number of words with cumulative probability 0.5 in each topic:\n",
      "_______________\n",
      "Topic 0 : 318\n",
      "Topic 1 : 519\n",
      "Topic 2 : 701\n",
      "Topic 3 : 545\n",
      "Topic 4 : 379\n",
      "Topic 5 : 384\n",
      "Topic 6 : 572\n",
      "Topic 7 : 467\n",
      "Topic 8 : 1303\n",
      "Topic 9 : 574\n",
      "Average number of words: 576\n"
     ]
    }
   ],
   "source": [
    "print 'Number of words with cumulative probability 0.5 in each topic:'\n",
    "print '_______________'\n",
    "all_topics=0\n",
    "for i in range(10):\n",
    "    topic_num = len(tpm_high_gamma.get_topics(topic_ids=[i], num_words=2000, cdf_cutoff=0.5)['topic'])\n",
    "    print 'Topic', i, ':', topic_num\n",
    "    all_topics += topic_num\n",
    "print 'Average number of words:', all_topics/10"
   ]
  },
  {
   "cell_type": "markdown",
   "metadata": {},
   "source": [
    "We have now seen how the hyperparameters alpha and gamma influence the characteristics of our LDA topic model, but we haven't said anything about what settings of alpha or gamma are best. We know that these parameters are responsible for controlling the smoothness of the topic distributions for documents and word distributions for topics, but there's no simple conversion between smoothness of these distributions and quality of the topic model. In reality, there is no universally \"best\" choice for these parameters. Instead, finding a good topic model requires that we be able to both explore the output (as we did by looking at the topics and checking some topic predictions for documents) and understand the impact of hyperparameter settings (as we have in this section)."
   ]
  }
 ],
 "metadata": {
  "kernelspec": {
   "display_name": "Python 2",
   "language": "python",
   "name": "python2"
  },
  "language_info": {
   "codemirror_mode": {
    "name": "ipython",
    "version": 2
   },
   "file_extension": ".py",
   "mimetype": "text/x-python",
   "name": "python",
   "nbconvert_exporter": "python",
   "pygments_lexer": "ipython2",
   "version": "2.7.11"
  }
 },
 "nbformat": 4,
 "nbformat_minor": 1
}
